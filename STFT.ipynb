{
 "cells": [
  {
   "cell_type": "code",
   "execution_count": null,
   "metadata": {},
   "outputs": [],
   "source": [
    "import scipy\n",
    "from scipy import signal\n",
    "import pandas as pd\n",
    "import matplotlib.pyplot as plt\n",
    "import numpy as np"
   ]
  },
  {
   "cell_type": "code",
   "execution_count": null,
   "metadata": {},
   "outputs": [],
   "source": [
    "#n_0 = pd.read_csv('D:\\\\신건호\\\\20210213_적재장치결함\\\\sar400_vibration_data\\\\20211015_SAR_400_data\\\\3_continuous.xlsx', sep='\\t', header=None, usecols=[1],  encoding='unicode_escape')\n",
    "#n1_0 = pd.read_csv('D:\\\\신건호\\\\20210213_적재장치결함\\\\sar400_vibration_data\\\\20220112\\\\3_continuous.xlsx', sep='\\t', header=None, usecols=[1],  encoding='unicode_escape')\n",
    "n2_0 = pd.read_csv(r'C:\\Users\\VIP444\\Documents\\Anomaly-Dataset\\sar400_vibration_data\\20220208\\0_continuous.xlsx', sep='\\t', header = None, usecols = [1],  encoding = 'unicode_escape')"
   ]
  },
  {
   "cell_type": "code",
   "execution_count": null,
   "metadata": {},
   "outputs": [],
   "source": [
    "#n_0=n_0.to_numpy()\n",
    "#n1_0=n1_0.to_numpy()\n",
    "n2_0=n2_0.to_numpy()"
   ]
  },
  {
   "cell_type": "code",
   "execution_count": null,
   "metadata": {},
   "outputs": [],
   "source": [
    "#n_0=n_0.T\n",
    "#n1_0=n1_0.T\n",
    "n2_0=n2_0.T"
   ]
  },
  {
   "cell_type": "code",
   "execution_count": null,
   "metadata": {},
   "outputs": [],
   "source": [
    "#f_n_0, t_n_0, Zxx_n_0=scipy.signal.stft(n_0, fs=4000,nperseg=17*2*4000, boundary=None)\n",
    "#f_n1_0, t_n1_0, Zxx_n1_0=scipy.signal.stft(n1_0, fs=4000,nperseg=17*2*4000, boundary=None)\n",
    "f_n2_0, t_n2_0, Zxx_n2_0=scipy.signal.stft(n2_0, fs=4000,nperseg=17*2*4000, boundary=None)"
   ]
  },
  {
   "cell_type": "code",
   "execution_count": null,
   "metadata": {},
   "outputs": [],
   "source": [
    "#Zxx_n_0=np.reshape(Zxx_n_0,(Zxx_n_0.shape[1],Zxx_n_0.shape[2]))\n",
    "#Zxx_n1_0=np.reshape(Zxx_n1_0,(Zxx_n1_0.shape[1],Zxx_n1_0.shape[2]))\n",
    "Zxx_n2_0=np.reshape(Zxx_n2_0, (Zxx_n2_0.shape[1], Zxx_n2_0.shape[2]))"
   ]
  },
  {
   "cell_type": "code",
   "execution_count": null,
   "metadata": {},
   "outputs": [],
   "source": [
    "print(len(f_n2_0))\n",
    "print(len(t_n2_0))\n",
    "print(len(Zxx_n2_0))"
   ]
  },
  {
   "cell_type": "code",
   "execution_count": null,
   "metadata": {},
   "outputs": [],
   "source": [
    "#plt.pcolormesh(t_n_0[0:10], f_n_0, np.abs(Zxx_n_0[:,0:10]),shading='flat')"
   ]
  },
  {
   "cell_type": "code",
   "execution_count": null,
   "metadata": {},
   "outputs": [],
   "source": [
    "#plt.pcolormesh(t_n1_0, f_n1_0, np.abs(Zxx_n1_0),shading='flat')"
   ]
  },
  {
   "cell_type": "code",
   "execution_count": null,
   "metadata": {},
   "outputs": [],
   "source": [
    "plt.pcolormesh(t_n2_0[0:10], f_n2_0, np.abs(Zxx_n2_0[:, 0:10]), shading='flat')"
   ]
  },
  {
   "cell_type": "code",
   "execution_count": null,
   "metadata": {},
   "outputs": [],
   "source": [
    "#a=[]"
   ]
  },
  {
   "cell_type": "code",
   "execution_count": null,
   "metadata": {},
   "outputs": [],
   "source": [
    "#a=np.concatenate((abs(Zxx_n_0), abs(Zxx_n1_0)), axis=1)"
   ]
  },
  {
   "cell_type": "code",
   "execution_count": null,
   "metadata": {},
   "outputs": [],
   "source": [
    "#a=np.concatenate((a, abs(Zxx_n2_0)), axis=1)"
   ]
  },
  {
   "cell_type": "code",
   "execution_count": null,
   "metadata": {},
   "outputs": [],
   "source": [
    "np.savetxt('3_0fault.csv', np.abs(Zxx_n2_0), delimiter = \",\")"
   ]
  },
  {
   "cell_type": "code",
   "execution_count": null,
   "metadata": {},
   "outputs": [],
   "source": []
  }
 ],
 "metadata": {
  "kernelspec": {
   "display_name": "Python 3",
   "language": "python",
   "name": "python3"
  },
  "language_info": {
   "codemirror_mode": {
    "name": "ipython",
    "version": 3
   },
   "file_extension": ".py",
   "mimetype": "text/x-python",
   "name": "python",
   "nbconvert_exporter": "python",
   "pygments_lexer": "ipython3",
   "version": "3.7.11"
  }
 },
 "nbformat": 4,
 "nbformat_minor": 4
}
