{
 "cells": [
  {
   "cell_type": "code",
   "execution_count": 1,
   "metadata": {},
   "outputs": [],
   "source": [
    "import pandas as pd\n",
    "import matplotlib.pyplot as plt\n",
    "from tqdm import tqdm\n",
    "import numpy as np"
   ]
  },
  {
   "cell_type": "code",
   "execution_count": null,
   "metadata": {},
   "outputs": [],
   "source": [
    "# 평균값을 이용하여 데이터를 완만하게 만드는 함수\n",
    "# data_index : 데이터 index중 완만하게 할 데이터의 index 값, 기본값 = 1\n",
    "# window_size : 평균치를 낼때 확인하는 데이터의 범위, 기본값 = 10000\n",
    "\n",
    "def getSmoothData(data, data_index = 1, window_size = 8000):\n",
    "    out = []\n",
    "    end_size = len(data)\n",
    "    \n",
    "    sum = 0\n",
    "    for i in range(0, window_size):\n",
    "        sum += abs(data[data_index][i])\n",
    "    sum /= window_size\n",
    "    \n",
    "    for i in tqdm(range(window_size, end_size)):    \n",
    "        sum *= window_size\n",
    "        sum += abs(data[data_index][i])\n",
    "        sum -= abs(data[data_index][i - window_size])\n",
    "        sum /= window_size\n",
    "\n",
    "        out.append(sum)\n",
    "        \n",
    "    return out"
   ]
  },
  {
   "cell_type": "code",
   "execution_count": null,
   "metadata": {},
   "outputs": [],
   "source": [
    "# 데이터를 분리할 구분자를 만드는 함수\n",
    "# threshold 값보다 작은값 마다 구분자를 제작함\n",
    "# threshold 기본값 0.75\n",
    "\n",
    "def getSeparators(data, threshold = 0.75):\n",
    "    mids = []\n",
    "    \n",
    "    end = 0\n",
    "    end_size = len(data)\n",
    "\n",
    "    start = 0\n",
    "\n",
    "    for i in tqdm(range(0, end_size)):\n",
    "        value = data[i]\n",
    "\n",
    "        if (value < threshold):\n",
    "            if (start == 0):\n",
    "                start = i\n",
    "            end = i\n",
    "\n",
    "        if (value > threshold):\n",
    "            if (start != 0):\n",
    "                mid = (int)((start + end) / 2)\n",
    "                mids.append(mid)\n",
    "\n",
    "                start = 0\n",
    "\n",
    "    return mids"
   ]
  },
  {
   "cell_type": "code",
   "execution_count": null,
   "metadata": {},
   "outputs": [],
   "source": [
    "# 구분자의 중목을 제거하는 함수\n",
    "# window 보다 작은 기간 내에 존재하는 구분자의 중복을 제거함\n",
    "# window 의 기본값 10000\n",
    "\n",
    "def deduplication(datas, window = 8000):\n",
    "    pre = datas[0]\n",
    "    \n",
    "    for data in datas[1:]:\n",
    "        if (data - pre < window):\n",
    "            datas.remove(data) \n",
    "        else:\n",
    "            pre = data\n",
    "            \n",
    "    return datas"
   ]
  },
  {
   "cell_type": "code",
   "execution_count": 21,
   "metadata": {},
   "outputs": [],
   "source": [
    "# 데이터를 구분자를 이용해서 분할하는 함수\n",
    "\n",
    "def data_split(raw_array):\n",
    "    list = []\n",
    "\n",
    "    begin = 0\n",
    "    end = 68000\n",
    "\n",
    "    while(1):\n",
    "        list.append(raw_array[begin:end])\n",
    "        begin += 68000\n",
    "        end += 68000\n",
    "\n",
    "        if end >= len(raw_array):\n",
    "            list.append(raw_array[begin:])\n",
    "            break\n",
    "        \n",
    "    return list"
   ]
  },
  {
   "cell_type": "code",
   "execution_count": 24,
   "metadata": {},
   "outputs": [],
   "source": [
    "vibrations = pd.read_csv(r'C:\\Users\\VIP444\\Documents\\Anomaly-Dataset\\sar400_vibration_data\\20220208\\0_continuous.xlsx', encoding='unicode_escape', delimiter='\\t', header=None, usecols=[1])"
   ]
  },
  {
   "cell_type": "code",
   "execution_count": 25,
   "metadata": {},
   "outputs": [],
   "source": [
    "vibrations_array = np.array(vibrations)"
   ]
  },
  {
   "cell_type": "code",
   "execution_count": 26,
   "metadata": {},
   "outputs": [
    {
     "name": "stdout",
     "output_type": "stream",
     "text": [
      "1692\n"
     ]
    }
   ],
   "source": [
    "test = data_split(vibrations_array)\n",
    "print(len(test))"
   ]
  },
  {
   "cell_type": "code",
   "execution_count": 27,
   "metadata": {},
   "outputs": [
    {
     "name": "stdout",
     "output_type": "stream",
     "text": [
      "25751\n"
     ]
    }
   ],
   "source": [
    "print(len(test[-1]))"
   ]
  },
  {
   "cell_type": "code",
   "execution_count": 23,
   "metadata": {},
   "outputs": [
    {
     "name": "stdout",
     "output_type": "stream",
     "text": [
      "68000\n",
      "68000\n",
      "68000\n",
      "68000\n",
      "68000\n",
      "68000\n",
      "68000\n",
      "68000\n",
      "68000\n",
      "68000\n",
      "44344\n"
     ]
    }
   ],
   "source": [
    "for i in test:\n",
    "    print(len(i))"
   ]
  },
  {
   "cell_type": "code",
   "execution_count": 16,
   "metadata": {},
   "outputs": [
    {
     "data": {
      "text/plain": [
       "[<matplotlib.lines.Line2D at 0x1410074cbc8>]"
      ]
     },
     "execution_count": 16,
     "metadata": {},
     "output_type": "execute_result"
    },
    {
     "data": {
      "image/png": "[encoded data removed]",
      "text/plain": [
       "<Figure size 432x288 with 1 Axes>"
      ]
     },
     "metadata": {
      "needs_background": "light"
     },
     "output_type": "display_data"
    }
   ],
   "source": [
    "plt.plot(vibrations_array[:10])"
   ]
  },
  {
   "cell_type": "code",
   "execution_count": null,
   "metadata": {},
   "outputs": [],
   "source": [
    "size = 500000\n",
    "\n",
    "smoothed = getSmoothData(vibrations[:size])\n",
    "separators = getSeparators(smoothed)\n",
    "separators = deduplication(separators)\n",
    "splited = split(vibrations[1], separators)"
   ]
  },
  {
   "cell_type": "code",
   "execution_count": null,
   "metadata": {},
   "outputs": [],
   "source": [
    "print(type(smoothed))"
   ]
  },
  {
   "cell_type": "code",
   "execution_count": null,
   "metadata": {},
   "outputs": [],
   "source": [
    "# 속도를 위해 사이즈 지정하여 일부만 출력\n",
    "size = 500000\n",
    "\n",
    "smoothed = getSmoothData(vibrations[:size])\n",
    "separators = getSeparators(smoothed)\n",
    "separators = deduplication(separators)\n",
    "splited = split(vibrations[1], separators)\n",
    "\n",
    "# 데이터와 구분자 출력\n",
    "plt.plot(smoothed)\n",
    "for data in separators:\n",
    "    plt.axvline(x=data, ymin=0, ymax=1, color = 'red')\n",
    "plt.show()\n",
    "\n",
    "# 분할된 데이터 출력\n",
    "idx = 0\n",
    "for data in splited:\n",
    "    print(str(idx) + \"번 사이클\")\n",
    "    idx += 1\n",
    "    plt.plot(data)\n",
    "    plt.show()"
   ]
  },
  {
   "cell_type": "code",
   "execution_count": null,
   "metadata": {},
   "outputs": [],
   "source": []
  }
 ],
 "metadata": {
  "interpreter": {
   "hash": "4c685287e67beedc9686e20e69d317f8ab63c1a79d4a9993437222c668c84b9b"
  },
  "kernelspec": {
   "display_name": "Python 3.7.11 ('torch')",
   "language": "python",
   "name": "python3"
  },
  "language_info": {
   "codemirror_mode": {
    "name": "ipython",
    "version": 3
   },
   "file_extension": ".py",
   "mimetype": "text/x-python",
   "name": "python",
   "nbconvert_exporter": "python",
   "pygments_lexer": "ipython3",
   "version": "3.7.11"
  },
  "orig_nbformat": 4
 },
 "nbformat": 4,
 "nbformat_minor": 2
}
